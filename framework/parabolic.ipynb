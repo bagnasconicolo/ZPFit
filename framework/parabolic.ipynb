{
 "cells": [
  {
   "cell_type": "code",
   "execution_count": 166,
   "id": "4ea68878-8d3c-4958-a3a4-fd5ea60c4afa",
   "metadata": {},
   "outputs": [],
   "source": [
    "import numpy as np\n",
    "import scipy\n",
    "import csv\n",
    "from scipy.signal import find_peaks\n",
    "import matplotlib.pyplot as plt\n",
    "from IPython.display import display, HTML, Markdown\n",
    "import pandas as pd\n",
    "from random import randint\n",
    "from sympy import *\n",
    "xx, yy, aa, bb, cc = symbols('xx yy aa bb cc')\n",
    "%store -r parabdata"
   ]
  },
  {
   "cell_type": "markdown",
   "id": "39290c02-2db8-4106-868f-c5ba370f476b",
   "metadata": {},
   "source": [
    "Conversione dei dati dal csv"
   ]
  },
  {
   "cell_type": "code",
   "execution_count": 167,
   "id": "b33e8820",
   "metadata": {},
   "outputs": [],
   "source": [
    "data = csv.reader(open(parabdata[0], 'r'), delimiter=\",\", quotechar='|')\n",
    "lxcol, lycol, lyerrcol = [], [], []\n",
    "\n",
    "for row in data:\n",
    "    lxcol.append(row[0])\n",
    "    lycol.append(row[1])\n",
    "    lyerrcol.append(row[2])\n",
    "    \n",
    "#Converto in array\n",
    "xxdata = np.asarray(lxcol, dtype=np.float64)\n",
    "yydata = np.asarray(lycol, dtype=np.float64)\n",
    "yerr = np.asarray(lyerrcol, dtype=np.float64)\n",
    "npoint=len(xxdata)"
   ]
  },
  {
   "cell_type": "markdown",
   "id": "6f2d143a-dbb8-4e34-97e5-27afa3e50330",
   "metadata": {},
   "source": [
    "Calcolo delle derivate di X^2"
   ]
  },
  {
   "cell_type": "code",
   "execution_count": 168,
   "id": "700614ad",
   "metadata": {},
   "outputs": [],
   "source": [
    "s = expand((yy - cc*xx**2 - bb*xx - aa)**2)\n",
    "s_aa = diff(s,aa)\n",
    "s_cc = diff(s,cc)"
   ]
  },
  {
   "cell_type": "markdown",
   "id": "e1438420-03cb-472d-b781-175e6d4e451e",
   "metadata": {},
   "source": [
    "$a$, $b$ and $c$ are the solutions of the linear system:\n",
    "$\\begin{bmatrix}\n",
    "\\sum_i \\frac{1}{\\sigma_i^2} & \\sum_i \\frac{x_i}{\\sigma_i^2} & \\sum_i \\frac{x_i^2}{\\sigma_i^2}\\\\\n",
    "\\sum_i \\frac{x_i}{\\sigma_i^2} & \\sum_i \\frac{x_i^2}{\\sigma_i^2} & \\sum_i \\frac{x_i^3}{\\sigma_i^2}\\\\\n",
    "\\sum_i \\frac{x_i^2}{\\sigma_i^2} & \\sum_i \\frac{x_i^3}{\\sigma_i^2} & \\sum_i \\frac{x_i^4}{\\sigma_i^2}\\\\\n",
    "\\end{bmatrix}$\n",
    "$\\begin{bmatrix} a\\\\b\\\\c \\end{bmatrix}$ = \n",
    "$\\begin{bmatrix} \n",
    "\\sum_i \\frac{y_i}{\\sigma_i^2} \\\\ \\sum_i \\frac{x_i y_i}{\\sigma_i^2}\\\\\\sum_i \\frac{x_i^2 y_i}{\\sigma_i^2}\n",
    "\\end{bmatrix}$\n",
    "In forma matriciale : DA = B quindi A = D^(-1)B"
   ]
  },
  {
   "cell_type": "code",
   "execution_count": 169,
   "id": "114cea07",
   "metadata": {},
   "outputs": [],
   "source": [
    "yerrSq = yerr*yerr\n",
    "sum_one_over_yerrSq = (1./yerrSq).sum()\n",
    "sum_x_over_yerrSq = (xxdata/yerrSq).sum()\n",
    "sum_x2_over_yerrSq = (xxdata*xxdata/yerrSq).sum()\n",
    "sum_x3_over_yerrSq = (xxdata*xxdata*xxdata/yerrSq).sum()\n",
    "sum_x4_over_yerrSq = (xxdata*xxdata*xxdata*xxdata/yerrSq).sum()\n",
    "sum_y_over_yerrSq = (yydata/yerrSq).sum()\n",
    "sum_xy_over_yerrSq = (xxdata*yydata/yerrSq).sum()\n",
    "sum_x2y_over_yerrSq = (xxdata*xxdata*yydata/yerrSq).sum()"
   ]
  },
  {
   "cell_type": "markdown",
   "id": "92efd82e-7c44-4354-be8f-f28a0bb46ea3",
   "metadata": {},
   "source": [
    "Calcolo matrice D e matrice inversa"
   ]
  },
  {
   "cell_type": "code",
   "execution_count": 170,
   "id": "f9aac270",
   "metadata": {},
   "outputs": [
    {
     "data": {
      "text/plain": [
       "array([[ 1.78063241e-02, -5.81027668e-04,  3.95256917e-06],\n",
       "       [-5.81027668e-04,  2.41945880e-05, -1.82426269e-07],\n",
       "       [ 3.95256917e-06, -1.82426269e-07,  1.45941016e-09]])"
      ]
     },
     "execution_count": 170,
     "metadata": {},
     "output_type": "execute_result"
    }
   ],
   "source": [
    "matD = np.array([[sum_one_over_yerrSq,sum_x_over_yerrSq,sum_x2_over_yerrSq],\n",
    "                [sum_x_over_yerrSq,sum_x2_over_yerrSq,sum_x3_over_yerrSq],\n",
    "                [sum_x2_over_yerrSq,sum_x3_over_yerrSq,sum_x4_over_yerrSq]])\n",
    "matD_inv = np.linalg.inv(matD)\n",
    "matD\n",
    "matD_inv"
   ]
  },
  {
   "cell_type": "markdown",
   "id": "8be98e4a-c9c9-4d06-965d-fcb7617d49f7",
   "metadata": {},
   "source": [
    "Check D^(-1)D = I"
   ]
  },
  {
   "cell_type": "code",
   "execution_count": 171,
   "id": "606e059e",
   "metadata": {},
   "outputs": [
    {
     "data": {
      "text/plain": [
       "array([[ 1.00000000e+00, -6.58679976e-18, -6.08596281e-19],\n",
       "       [-5.61135753e-14,  1.00000000e+00, -1.23919138e-17],\n",
       "       [ 1.11076062e-11,  1.95011363e-13,  1.00000000e+00]])"
      ]
     },
     "execution_count": 171,
     "metadata": {},
     "output_type": "execute_result"
    }
   ],
   "source": [
    "np.dot(matD,matD_inv)"
   ]
  },
  {
   "cell_type": "markdown",
   "id": "6cb019c5-c8ee-40f7-89db-4aefb00b2d87",
   "metadata": {},
   "source": [
    "Calcolo matrice B"
   ]
  },
  {
   "cell_type": "code",
   "execution_count": 172,
   "id": "8679da36",
   "metadata": {},
   "outputs": [
    {
     "data": {
      "text/plain": [
       "array([1.63125000e+04, 9.55262500e+05, 7.49435625e+07])"
      ]
     },
     "execution_count": 172,
     "metadata": {},
     "output_type": "execute_result"
    }
   ],
   "source": [
    "matB = np.array([sum_y_over_yerrSq,sum_xy_over_yerrSq,sum_x2y_over_yerrSq])\n",
    "matB"
   ]
  },
  {
   "cell_type": "code",
   "execution_count": 173,
   "id": "60335f5f-6c90-49ba-afb6-d11b04bf4bee",
   "metadata": {},
   "outputs": [
    {
     "data": {
      "text/plain": [
       "array([ 3.16513340e+01, -3.75057160e-02, -4.15293402e-04])"
      ]
     },
     "execution_count": 173,
     "metadata": {},
     "output_type": "execute_result"
    }
   ],
   "source": [
    "np.dot(matD_inv,matB)"
   ]
  },
  {
   "cell_type": "markdown",
   "id": "b583f5bd-4453-4be5-ab3b-e77daa0c7e21",
   "metadata": {},
   "source": [
    "Calcolo parametri fit"
   ]
  },
  {
   "cell_type": "code",
   "execution_count": 174,
   "id": "6ccc7405-1689-4422-9117-428aff69c741",
   "metadata": {},
   "outputs": [
    {
     "name": "stdout",
     "output_type": "stream",
     "text": [
      " a =  31.65133399209475\n",
      " b =  -0.037505716023103375\n",
      " c =  -0.0004152934022499666\n"
     ]
    }
   ],
   "source": [
    "a, b, c = np.dot(matD_inv,matB)[0],np.dot(matD_inv,matB)[1],np.dot(matD_inv,matB)[2]\n",
    "print (\" a = \", a)\n",
    "print (\" b = \", b)\n",
    "print (\" c = \", c)"
   ]
  },
  {
   "cell_type": "code",
   "execution_count": 175,
   "id": "6f470b90-94c1-4fa2-a678-ed8093acdc9e",
   "metadata": {},
   "outputs": [
    {
     "name": "stdout",
     "output_type": "stream",
     "text": [
      " errore su a =  0.13344033914327386\n",
      " errore su b =  0.0049187994491212035\n",
      " errore su c =  3.82022270955809e-05\n"
     ]
    }
   ],
   "source": [
    "vara, varb, varc= matD_inv[0,0], matD_inv[1,1], matD_inv[2,2]\n",
    "erra=np.sqrt(vara)\n",
    "errb=np.sqrt(varb)\n",
    "errc=np.sqrt(varc)\n",
    "print (\" errore su a = \",erra)\n",
    "print (\" errore su b = \",errb)\n",
    "print (\" errore su c = \",errc)"
   ]
  },
  {
   "cell_type": "markdown",
   "id": "83e6f2a8-1fff-4c8b-8ce6-524c0fd69be8",
   "metadata": {},
   "source": [
    "Plot e salvataggio immagine"
   ]
  },
  {
   "cell_type": "code",
   "execution_count": 176,
   "id": "96718e32-359c-44e3-acb5-2011af244c1a",
   "metadata": {},
   "outputs": [
    {
     "data": {
      "image/png": "[encoded data removed]",
      "text/plain": [
       "<Figure size 864x576 with 1 Axes>"
      ]
     },
     "metadata": {
      "image/png": {
       "height": 494,
       "width": 726
      },
      "needs_background": "light"
     },
     "output_type": "display_data"
    }
   ],
   "source": [
    "randfig=str(randint(0, 9999));\n",
    "namefig='fig'+randfig+'.png';\n",
    "\n",
    "plt.rcParams[\"figure.figsize\"]=[12,8]\n",
    "fig, ax = plt.subplots()\n",
    "thickxdata = np.arange(5,120,0.1)\n",
    "ax.set_xlabel(parabdata[1])\n",
    "ax.set_ylabel(parabdata[2])\n",
    "ax.set_title(parabdata[3])\n",
    "ax.set_xlim(0, 125);\n",
    "ax.set_ylim(20, 32.5);\n",
    "plt.plot(thickxdata,c*thickxdata*thickxdata+b*thickxdata+a,color=\"k\",linewidth=0.6)\n",
    "plt.errorbar(xxdata,yydata,yerr=yerr,fmt='r.')\n",
    "plt.grid(which='both')\n",
    "plt.xticks(np.arange(0,125,step=5));\n",
    "plt.yticks(np.arange(20,32.5,step=0.5));\n",
    "\n",
    "plt.savefig(namefig);"
   ]
  },
  {
   "cell_type": "markdown",
   "id": "36372400-2114-482b-99bb-d477666508e7",
   "metadata": {},
   "source": [
    "Calcolo X^2 e errore standard della stima"
   ]
  },
  {
   "cell_type": "code",
   "execution_count": 177,
   "id": "81a1bab8-f578-4323-8a7c-beef476b4080",
   "metadata": {},
   "outputs": [
    {
     "name": "stdout",
     "output_type": "stream",
     "text": [
      " Chi^2 =  10.23535383095164\n",
      " errore standard della stima =  0.13962776249355108\n"
     ]
    }
   ],
   "source": [
    "scarto1 = (yydata-a-b*xxdata-c*xxdata*xxdata)/yerr\n",
    "scarto2 = (yydata-a-b*xxdata-c*xxdata*xxdata)\n",
    "chi2 = (scarto1*scarto1).sum()\n",
    "errstSq = (scarto2*scarto2/(npoint-3)).sum()\n",
    "errst = np.sqrt(errstSq)\n",
    "print (\" Chi^2 = \",chi2)\n",
    "print (\" errore standard della stima = \",errst)"
   ]
  },
  {
   "cell_type": "markdown",
   "id": "f08fcfc7-1a9f-4569-8213-9e964d8a4e2b",
   "metadata": {},
   "source": [
    "Calcolo coefficiente di determinazione"
   ]
  },
  {
   "cell_type": "code",
   "execution_count": 178,
   "id": "69f779e3-80d4-42d2-aa81-98c3a0077fb2",
   "metadata": {},
   "outputs": [
    {
     "name": "stdout",
     "output_type": "stream",
     "text": [
      "coefficiente determinazione =  0.9991285495107556\n"
     ]
    }
   ],
   "source": [
    "sum_y = (yydata).sum()\n",
    "ymean=sum_y/npoint\n",
    "ameany = yydata-ymean\n",
    "vary = (ameany*ameany).sum()\n",
    "yatteso =a+b*xxdata+c*xxdata*xxdata\n",
    "scarto3=yatteso-ymean\n",
    "var_numeratore=(scarto3*scarto3).sum()\n",
    "detercoeff2=var_numeratore/vary\n",
    "detercoeff=np.sqrt(detercoeff2)\n",
    "print (\"coefficiente determinazione = \",detercoeff)"
   ]
  },
  {
   "cell_type": "code",
   "execution_count": 182,
   "id": "debe8922-7508-4d1f-89bc-4eb927edf46c",
   "metadata": {},
   "outputs": [
    {
     "name": "stdout",
     "output_type": "stream",
     "text": [
      "Parametro a\n",
      "Parametro b\n",
      "Parametro c\n",
      "Errore su a\n",
      "Errore su b\n",
      "Errore su c\n",
      "Errore su c\n",
      "len 24\n",
      "Chi quadro critico,  32.670573340917315\n",
      "Chi quadro sospetto,  11.591305208820733\n",
      "Esito del test,  Sospetto\n",
      "\n",
      "\n"
     ]
    }
   ],
   "source": [
    "#CSV Fit\n",
    "#First column merging with um\n",
    "aatext='Parametro a'\n",
    "print(aatext)\n",
    "abtext='Parametro b'\n",
    "print(abtext)\n",
    "actext='Parametro c'\n",
    "print(actext)\n",
    "erratext='Errore su a'\n",
    "print(erratext)\n",
    "errbtext='Errore su b'\n",
    "print(errbtext)\n",
    "errctext='Errore su c'\n",
    "print(errctext)\n",
    "determtext='Coeff. di determinaz.'\n",
    "print(errctext)\n",
    "#Creating Arrays\n",
    "corrhead = np.array(['Variabile','Valore'])\n",
    "\n",
    "aa = np.array([aatext,a])\n",
    "ab = np.array([abtext,b])\n",
    "ac = np.array([actext,c])\n",
    "aerra = np.array([erratext,erra])\n",
    "aerrb = np.array([errbtext,errb])\n",
    "aerrc = np.array([errctext,errc])\n",
    "\n",
    "adeterm = np.array([determtext,detercoeff])\n",
    "#writing csv\n",
    "with open('corr.csv', mode='w') as corr:\n",
    "    corr_writer = csv.writer(corr, delimiter=',', quotechar='\"', quoting=csv.QUOTE_MINIMAL)\n",
    "    corr_writer.writerow(corrhead)\n",
    "    corr_writer.writerow(aa)\n",
    "    corr_writer.writerow(ab)\n",
    "    corr_writer.writerow(ac)\n",
    "    corr_writer.writerow(aerra) \n",
    "    corr_writer.writerow(aerrb) \n",
    "    corr_writer.writerow(aerrc) \n",
    "    corr_writer.writerow(adeterm)\n",
    "\n",
    "#Chi2 logic test\n",
    "def check(c2,cr,su):\n",
    "    if c2>cr:\n",
    "        return 'Rigettato'\n",
    "    elif c2<cr and c2>su:\n",
    "        return 'Accettato'\n",
    "    elif c2<su:\n",
    "        return 'Sospetto'\n",
    "    else:\n",
    "        print('Check error')\n",
    "        return 0\n",
    "    \n",
    "#Numero GDL\n",
    "alpha=float(parabdata[4])\n",
    "n=len(xxdata)-3\n",
    "print('len',len(xxdata))\n",
    "crit=scipy.stats.chi2.ppf(1-alpha , df=n)\n",
    "sus=scipy.stats.chi2.ppf(alpha , df=n)\n",
    "\n",
    "print('Chi quadro critico, ',crit)\n",
    "print('Chi quadro sospetto, ',sus)\n",
    "es=check(chi2,crit,sus)\n",
    "print(\"Esito del test, \",es)\n",
    "\n",
    "#Arrays for csv\n",
    "asig = np.array(['Livello di significatività',alpha])\n",
    "agdl = np.array(['Gradi di libertà',n])\n",
    "acrit = np.array(['Chi quadro critico',crit])\n",
    "chi = np.array(['Chi quadro ',chi2])\n",
    "asus = np.array(['Chi quadro sospetto',sus])\n",
    "esito = np.array(['Esito',es])\n",
    "head = np.array(['Variabile','Valore'])\n",
    "#CSV writing\n",
    "with open('fit.csv', mode='w') as fit:\n",
    "    fit_writer = csv.writer(fit, delimiter=',', quotechar='\"', quoting=csv.QUOTE_MINIMAL)\n",
    "    fit_writer.writerow(head)\n",
    "    fit_writer.writerow(asig)\n",
    "    fit_writer.writerow(agdl)\n",
    "    fit_writer.writerow(chi)    \n",
    "    fit_writer.writerow(acrit)\n",
    "    fit_writer.writerow(asus)\n",
    "    fit_writer.writerow(esito)   \n",
    "    \n",
    "print('')\n",
    "print('')\n",
    "\n",
    "dfcorr = pd.read_csv ('corr.csv')\n",
    "dffit = pd.read_csv ('fit.csv')"
   ]
  },
  {
   "cell_type": "code",
   "execution_count": 183,
   "id": "eb04e052-8c5b-4337-a899-31ba36c8aa72",
   "metadata": {},
   "outputs": [
    {
     "data": {
      "text/html": [
       "<div>\n",
       "<style scoped>\n",
       "    .dataframe tbody tr th:only-of-type {\n",
       "        vertical-align: middle;\n",
       "    }\n",
       "\n",
       "    .dataframe tbody tr th {\n",
       "        vertical-align: top;\n",
       "    }\n",
       "\n",
       "    .dataframe thead th {\n",
       "        text-align: right;\n",
       "    }\n",
       "</style>\n",
       "<table border=\"1\" class=\"dataframe\">\n",
       "  <thead>\n",
       "    <tr style=\"text-align: right;\">\n",
       "      <th></th>\n",
       "      <th>Variabile</th>\n",
       "      <th>Valore</th>\n",
       "    </tr>\n",
       "  </thead>\n",
       "  <tbody>\n",
       "    <tr>\n",
       "      <th>0</th>\n",
       "      <td>Parametro a</td>\n",
       "      <td>31.651334</td>\n",
       "    </tr>\n",
       "    <tr>\n",
       "      <th>1</th>\n",
       "      <td>Parametro b</td>\n",
       "      <td>-0.037506</td>\n",
       "    </tr>\n",
       "    <tr>\n",
       "      <th>2</th>\n",
       "      <td>Parametro c</td>\n",
       "      <td>-0.000415</td>\n",
       "    </tr>\n",
       "    <tr>\n",
       "      <th>3</th>\n",
       "      <td>Errore su a</td>\n",
       "      <td>0.133440</td>\n",
       "    </tr>\n",
       "    <tr>\n",
       "      <th>4</th>\n",
       "      <td>Errore su b</td>\n",
       "      <td>0.004919</td>\n",
       "    </tr>\n",
       "    <tr>\n",
       "      <th>5</th>\n",
       "      <td>Errore su c</td>\n",
       "      <td>0.000038</td>\n",
       "    </tr>\n",
       "    <tr>\n",
       "      <th>6</th>\n",
       "      <td>Coeff. di determinaz.</td>\n",
       "      <td>0.999129</td>\n",
       "    </tr>\n",
       "  </tbody>\n",
       "</table>\n",
       "</div>"
      ],
      "text/plain": [
       "               Variabile     Valore\n",
       "0            Parametro a  31.651334\n",
       "1            Parametro b  -0.037506\n",
       "2            Parametro c  -0.000415\n",
       "3            Errore su a   0.133440\n",
       "4            Errore su b   0.004919\n",
       "5            Errore su c   0.000038\n",
       "6  Coeff. di determinaz.   0.999129"
      ]
     },
     "metadata": {},
     "output_type": "display_data"
    },
    {
     "data": {
      "text/html": [
       "<div>\n",
       "<style scoped>\n",
       "    .dataframe tbody tr th:only-of-type {\n",
       "        vertical-align: middle;\n",
       "    }\n",
       "\n",
       "    .dataframe tbody tr th {\n",
       "        vertical-align: top;\n",
       "    }\n",
       "\n",
       "    .dataframe thead th {\n",
       "        text-align: right;\n",
       "    }\n",
       "</style>\n",
       "<table border=\"1\" class=\"dataframe\">\n",
       "  <thead>\n",
       "    <tr style=\"text-align: right;\">\n",
       "      <th></th>\n",
       "      <th>Variabile</th>\n",
       "      <th>Valore</th>\n",
       "    </tr>\n",
       "  </thead>\n",
       "  <tbody>\n",
       "    <tr>\n",
       "      <th>0</th>\n",
       "      <td>Livello di significatività</td>\n",
       "      <td>0.05</td>\n",
       "    </tr>\n",
       "    <tr>\n",
       "      <th>1</th>\n",
       "      <td>Gradi di libertà</td>\n",
       "      <td>21</td>\n",
       "    </tr>\n",
       "    <tr>\n",
       "      <th>2</th>\n",
       "      <td>Chi quadro</td>\n",
       "      <td>10.23535383095164</td>\n",
       "    </tr>\n",
       "    <tr>\n",
       "      <th>3</th>\n",
       "      <td>Chi quadro critico</td>\n",
       "      <td>32.670573340917315</td>\n",
       "    </tr>\n",
       "    <tr>\n",
       "      <th>4</th>\n",
       "      <td>Chi quadro sospetto</td>\n",
       "      <td>11.591305208820733</td>\n",
       "    </tr>\n",
       "    <tr>\n",
       "      <th>5</th>\n",
       "      <td>Esito</td>\n",
       "      <td>Sospetto</td>\n",
       "    </tr>\n",
       "  </tbody>\n",
       "</table>\n",
       "</div>"
      ],
      "text/plain": [
       "                    Variabile              Valore\n",
       "0  Livello di significatività                0.05\n",
       "1            Gradi di libertà                  21\n",
       "2                 Chi quadro    10.23535383095164\n",
       "3          Chi quadro critico  32.670573340917315\n",
       "4         Chi quadro sospetto  11.591305208820733\n",
       "5                       Esito            Sospetto"
      ]
     },
     "metadata": {},
     "output_type": "display_data"
    }
   ],
   "source": [
    "display(dfcorr,dffit)"
   ]
  },
  {
   "cell_type": "code",
   "execution_count": 184,
   "id": "6a81eaa9-59cb-44d0-918c-a5c7b1456a40",
   "metadata": {},
   "outputs": [
    {
     "name": "stdout",
     "output_type": "stream",
     "text": [
      "Stored 'dffit' (DataFrame)\n",
      "Stored 'dfcorr' (DataFrame)\n"
     ]
    }
   ],
   "source": [
    "%store dffit\n",
    "%store dfcorr"
   ]
  },
  {
   "cell_type": "code",
   "execution_count": 191,
   "id": "5c7bb602-b4c3-4583-b8f0-075004590581",
   "metadata": {},
   "outputs": [
    {
     "name": "stdout",
     "output_type": "stream",
     "text": [
      "Stored 'latexfig' (tuple)\n"
     ]
    }
   ],
   "source": [
    "#LaTeX image handling\n",
    "\n",
    "latexfig=\"\"\"\n",
    "\\\\begin{figure}[!ht]\n",
    "\\includegraphics[width=12cm]{\"\"\",namefig,\"\"\"}\n",
    "\\centering\n",
    "\\caption{Fit lineare di\"\"\",parabdata[1],\"\"\" e \"\"\",parabdata[2],\"\"\"}\n",
    "\\end{figure}\n",
    "\"\"\"\n",
    "\n",
    "%store latexfig\n",
    "\n"
   ]
  },
  {
   "cell_type": "code",
   "execution_count": null,
   "id": "a7f77df4-e33a-44a8-8098-cdb535154c4a",
   "metadata": {},
   "outputs": [],
   "source": []
  }
 ],
 "metadata": {
  "kernelspec": {
   "display_name": "Python 3",
   "language": "python",
   "name": "python3"
  },
  "language_info": {
   "codemirror_mode": {
    "name": "ipython",
    "version": 3
   },
   "file_extension": ".py",
   "mimetype": "text/x-python",
   "name": "python",
   "nbconvert_exporter": "python",
   "pygments_lexer": "ipython3",
   "version": "3.8.8"
  }
 },
 "nbformat": 4,
 "nbformat_minor": 5
}
