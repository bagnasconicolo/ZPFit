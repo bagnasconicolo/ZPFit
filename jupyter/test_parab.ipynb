{
 "cells": [
  {
   "cell_type": "markdown",
   "metadata": {},
   "source": [
    "### Given two list of x and y coordinates, and a list of errors on y, find the parabola that minimizes the sum of square distances between the parabola and the (x,y) points."
   ]
  },
  {
   "cell_type": "code",
   "execution_count": 32,
   "metadata": {},
   "outputs": [],
   "source": [
    "\n",
    "from sympy import *\n",
    "\n",
    "import numpy as np\n",
    "import scipy.stats\n",
    "import csv\n",
    "import matplotlib.pyplot as plt\n",
    "import pandas as pd\n",
    "from random import randint\n"
   ]
  },
  {
   "cell_type": "code",
   "execution_count": 33,
   "metadata": {},
   "outputs": [],
   "source": [
    "xx, yy, aa, bb, cc = symbols('xx yy aa bb cc')"
   ]
  },
  {
   "cell_type": "raw",
   "metadata": {},
   "source": [
    "Si comprimono i valori di x tra -1 e 1 : se non serve decommentare l'ultima riga"
   ]
  },
  {
   "cell_type": "code",
   "execution_count": 34,
   "metadata": {},
   "outputs": [
    {
     "name": "stdout",
     "output_type": "stream",
     "text": [
      "\n",
      "0.005\n",
      "0.04\n",
      "57.14285714285714\n",
      "1.2857142857142856\n"
     ]
    },
    {
     "data": {
      "text/plain": [
       "array([-1.        , -0.71428571, -0.42857143, -0.14285714,  0.14285714,\n",
       "        0.42857143,  0.71428571,  1.        ])"
      ]
     },
     "execution_count": 34,
     "metadata": {},
     "output_type": "execute_result"
    }
   ],
   "source": [
    "\n",
    "#Livello di criticità es. (.05)\n",
    "alpha=.05\n",
    "unma='cm'\n",
    "unmb='N'\n",
    "plt.rcParams['figure.figsize'] = [15, 10]\n",
    "\n",
    "#Importo dati.csv con tre colonne (x, y, yerr) in tre liste\n",
    "\n",
    "data = csv.reader(open('dati.csv', 'r'), delimiter=\",\", quotechar='|')\n",
    "lxcol, lycol, lyerrcol = [], [], []\n",
    "\n",
    "for row in data:\n",
    "    lxcol.append(row[0])\n",
    "    lycol.append(row[1])\n",
    "    lyerrcol.append(row[2])\n",
    "    \n",
    "#Converto in array\n",
    "ydatap = np.asarray(lycol, dtype=np.float64)\n",
    "\n",
    "yerrp = np.asarray(lyerrcol, dtype=np.float64)\n",
    "print('')\n",
    "\n",
    "xdataor = np.asarray(lxcol, dtype=np.float64)\n",
    "npoint = len(xdataor)\n",
    "npoint\n",
    "ax,bx = float(xdataor[0]),float(xdataor[npoint-1])\n",
    "apx,bpx = 2./(bx-ax),(bx + ax)/(bx - ax)\n",
    "print(ax)\n",
    "print(bx)\n",
    "print(apx)\n",
    "print(bpx)\n",
    "xdata = xdataor*apx - bpx\n",
    "xdata\n",
    "#xdata=xdataor"
   ]
  },
  {
   "cell_type": "code",
   "execution_count": 36,
   "metadata": {},
   "outputs": [],
   "source": [
    "ydata = ydatap\n",
    "yerr = yerrp\n",
    "if (len(xdata)!=len(ydata)): print (\"dimensioni vettori disuguali\")\n",
    "if (len(yerr)!=len(ydata)) : print (\"dimensioni vettori disuguali\")"
   ]
  },
  {
   "cell_type": "markdown",
   "metadata": {},
   "source": [
    "We want to find the parameters $a$ and $b$ of the parabola $y = c x^2 + b x + a$ which minimize:\n",
    "$ \\chi^2 = \\sum_i \\frac{(y_i - c x_i^2 - b x_i - a)^2}{\\sigma_i^2}$"
   ]
  },
  {
   "cell_type": "markdown",
   "metadata": {},
   "source": [
    "The minimum condition can be derived expanding $(yy - cc \\cdot xx^2 - bb \\cdot xx - aa)^2$, and equating the derivatives with respect to $aa$, $bb$, $cc$ to zero. "
   ]
  },
  {
   "cell_type": "raw",
   "metadata": {},
   "source": [
    "# Calcolo delle derivate di X^2"
   ]
  },
  {
   "cell_type": "code",
   "execution_count": 37,
   "metadata": {},
   "outputs": [
    {
     "data": {
      "text/latex": [
       "$\\displaystyle aa^{2} + 2 aa bb xx + 2 aa cc xx^{2} - 2 aa yy + bb^{2} xx^{2} + 2 bb cc xx^{3} - 2 bb xx yy + cc^{2} xx^{4} - 2 cc xx^{2} yy + yy^{2}$"
      ],
      "text/plain": [
       "aa**2 + 2*aa*bb*xx + 2*aa*cc*xx**2 - 2*aa*yy + bb**2*xx**2 + 2*bb*cc*xx**3 - 2*bb*xx*yy + cc**2*xx**4 - 2*cc*xx**2*yy + yy**2"
      ]
     },
     "execution_count": 37,
     "metadata": {},
     "output_type": "execute_result"
    }
   ],
   "source": [
    "s = expand((yy - cc*xx**2 - bb*xx - aa)**2)\n",
    "s"
   ]
  },
  {
   "cell_type": "code",
   "execution_count": 38,
   "metadata": {},
   "outputs": [
    {
     "data": {
      "text/latex": [
       "$\\displaystyle 2 aa + 2 bb xx + 2 cc xx^{2} - 2 yy$"
      ],
      "text/plain": [
       "2*aa + 2*bb*xx + 2*cc*xx**2 - 2*yy"
      ]
     },
     "execution_count": 38,
     "metadata": {},
     "output_type": "execute_result"
    }
   ],
   "source": [
    "s_aa = diff(s,aa)\n",
    "s_aa"
   ]
  },
  {
   "cell_type": "code",
   "execution_count": 39,
   "metadata": {},
   "outputs": [
    {
     "data": {
      "text/latex": [
       "$\\displaystyle 2 aa xx + 2 bb xx^{2} + 2 cc xx^{3} - 2 xx yy$"
      ],
      "text/plain": [
       "2*aa*xx + 2*bb*xx**2 + 2*cc*xx**3 - 2*xx*yy"
      ]
     },
     "execution_count": 39,
     "metadata": {},
     "output_type": "execute_result"
    }
   ],
   "source": [
    "s_bb = diff(s,bb)\n",
    "s_bb"
   ]
  },
  {
   "cell_type": "code",
   "execution_count": 40,
   "metadata": {},
   "outputs": [
    {
     "data": {
      "text/latex": [
       "$\\displaystyle 2 aa xx^{2} + 2 bb xx^{3} + 2 cc xx^{4} - 2 xx^{2} yy$"
      ],
      "text/plain": [
       "2*aa*xx**2 + 2*bb*xx**3 + 2*cc*xx**4 - 2*xx**2*yy"
      ]
     },
     "execution_count": 40,
     "metadata": {},
     "output_type": "execute_result"
    }
   ],
   "source": [
    "s_cc = diff(s,cc)\n",
    "s_cc"
   ]
  },
  {
   "cell_type": "markdown",
   "metadata": {},
   "source": [
    "$a$, $b$ and $c$ are the solutions of the linear system:\n",
    "$\\begin{bmatrix}\n",
    "\\sum_i \\frac{1}{\\sigma_i^2} & \\sum_i \\frac{x_i}{\\sigma_i^2} & \\sum_i \\frac{x_i^2}{\\sigma_i^2}\\\\\n",
    "\\sum_i \\frac{x_i}{\\sigma_i^2} & \\sum_i \\frac{x_i^2}{\\sigma_i^2} & \\sum_i \\frac{x_i^3}{\\sigma_i^2}\\\\\n",
    "\\sum_i \\frac{x_i^2}{\\sigma_i^2} & \\sum_i \\frac{x_i^3}{\\sigma_i^2} & \\sum_i \\frac{x_i^4}{\\sigma_i^2}\\\\\n",
    "\\end{bmatrix}$\n",
    "$\\begin{bmatrix} a\\\\b\\\\c \\end{bmatrix}$ = \n",
    "$\\begin{bmatrix} \n",
    "\\sum_i \\frac{y_i}{\\sigma_i^2} \\\\ \\sum_i \\frac{x_i y_i}{\\sigma_i^2}\\\\\\sum_i \\frac{x_i^2 y_i}{\\sigma_i^2}\n",
    "\\end{bmatrix}$"
   ]
  },
  {
   "cell_type": "markdown",
   "metadata": {},
   "source": [
    "In forma matriciale : DA = B quindi A = D^(-1)B"
   ]
  },
  {
   "cell_type": "code",
   "execution_count": 41,
   "metadata": {},
   "outputs": [],
   "source": [
    "yerrSq = yerr*yerr\n",
    "sum_one_over_yerrSq = (1./yerrSq).sum()\n",
    "sum_x_over_yerrSq = (xdata/yerrSq).sum()\n",
    "sum_x2_over_yerrSq = (xdata*xdata/yerrSq).sum()\n",
    "sum_x3_over_yerrSq = (xdata*xdata*xdata/yerrSq).sum()\n",
    "sum_x4_over_yerrSq = (xdata*xdata*xdata*xdata/yerrSq).sum()\n",
    "sum_y_over_yerrSq = (ydata/yerrSq).sum()\n",
    "sum_xy_over_yerrSq = (xdata*ydata/yerrSq).sum()\n",
    "sum_x2y_over_yerrSq = (xdata*xdata*ydata/yerrSq).sum()"
   ]
  },
  {
   "cell_type": "raw",
   "metadata": {},
   "source": [
    "Calcolo matrice D e matrice inversa"
   ]
  },
  {
   "cell_type": "code",
   "execution_count": 42,
   "metadata": {},
   "outputs": [
    {
     "data": {
      "text/plain": [
       "array([[ 6.66000000e-06,  1.28494576e-21, -8.82000000e-06],\n",
       "       [ 1.28494576e-21,  6.72000000e-06, -4.31248918e-21],\n",
       "       [-8.82000000e-06, -4.31248918e-21,  2.05800000e-05]])"
      ]
     },
     "execution_count": 42,
     "metadata": {},
     "output_type": "execute_result"
    }
   ],
   "source": [
    "matD = np.array([[sum_one_over_yerrSq,sum_x_over_yerrSq,sum_x2_over_yerrSq],\n",
    "                [sum_x_over_yerrSq,sum_x2_over_yerrSq,sum_x3_over_yerrSq],\n",
    "                [sum_x2_over_yerrSq,sum_x3_over_yerrSq,sum_x4_over_yerrSq]])\n",
    "matD_inv = np.linalg.inv(matD)\n",
    "matD\n",
    "matD_inv"
   ]
  },
  {
   "cell_type": "markdown",
   "metadata": {},
   "source": [
    "Check D^(-1)D = I"
   ]
  },
  {
   "cell_type": "code",
   "execution_count": 43,
   "metadata": {},
   "outputs": [
    {
     "data": {
      "text/plain": [
       "array([[ 1.00000000e+00, -2.91054989e-32, -6.20580501e-16],\n",
       "       [ 2.46519033e-32,  1.00000000e+00, -4.93038066e-32],\n",
       "       [ 5.26989441e-17, -2.82006318e-32,  1.00000000e+00]])"
      ]
     },
     "execution_count": 43,
     "metadata": {},
     "output_type": "execute_result"
    }
   ],
   "source": [
    "np.dot(matD,matD_inv)"
   ]
  },
  {
   "cell_type": "raw",
   "metadata": {},
   "source": [
    "Calcolo matrice B"
   ]
  },
  {
   "cell_type": "code",
   "execution_count": 44,
   "metadata": {},
   "outputs": [
    {
     "data": {
      "text/plain": [
       "array([84635.41666667, 31312.00396825, 36166.02891156])"
      ]
     },
     "execution_count": 44,
     "metadata": {},
     "output_type": "execute_result"
    }
   ],
   "source": [
    "matB = np.array([sum_y_over_yerrSq,sum_xy_over_yerrSq,sum_x2y_over_yerrSq])\n",
    "matB"
   ]
  },
  {
   "cell_type": "code",
   "execution_count": 14,
   "metadata": {},
   "outputs": [
    {
     "data": {
      "text/plain": [
       "array([ 9.88819398,  6.54536107, -1.27663194])"
      ]
     },
     "execution_count": 14,
     "metadata": {},
     "output_type": "execute_result"
    }
   ],
   "source": [
    "np.dot(matD_inv,matB)"
   ]
  },
  {
   "cell_type": "raw",
   "metadata": {},
   "source": [
    "Calcolo parametri fit (Attenzione a cifre significative e unita' di misura!!)"
   ]
  },
  {
   "cell_type": "code",
   "execution_count": 45,
   "metadata": {},
   "outputs": [
    {
     "name": "stdout",
     "output_type": "stream",
     "text": [
      " a =  0.24468749999999984\n",
      " b =  0.2104166666666667\n",
      " c =  -0.002187499999999787\n"
     ]
    }
   ],
   "source": [
    "a, b, c = np.dot(matD_inv,matB)[0],np.dot(matD_inv,matB)[1],np.dot(matD_inv,matB)[2]\n",
    "print(\" a = \", a)\n",
    "print(\" b = \", b)\n",
    "print(\" c = \", c)"
   ]
  },
  {
   "cell_type": "markdown",
   "metadata": {},
   "source": [
    "Calcolo varianze ed errori sui parametri (Attenzione a cifre significative e unita' di misura!!)"
   ]
  },
  {
   "cell_type": "code",
   "execution_count": 46,
   "metadata": {},
   "outputs": [
    {
     "name": "stdout",
     "output_type": "stream",
     "text": [
      " errore su a =  0.002580697580112787\n",
      " errore su b =  0.002592296279363144\n",
      " errore su c =  0.0045365184888855005\n"
     ]
    }
   ],
   "source": [
    "vara, varb, varc= matD_inv[0,0], matD_inv[1,1], matD_inv[2,2]\n",
    "erra=np.sqrt(vara)\n",
    "errb=np.sqrt(varb)\n",
    "errc=np.sqrt(varc)\n",
    "print(\" errore su a = \",erra)\n",
    "print(\" errore su b = \",errb)\n",
    "print(\" errore su c = \",errc)"
   ]
  },
  {
   "cell_type": "markdown",
   "metadata": {},
   "source": [
    "Plot, adding extra points for the parabola."
   ]
  },
  {
   "cell_type": "code",
   "execution_count": 51,
   "metadata": {},
   "outputs": [
    {
     "data": {
      "text/plain": [
       "<ErrorbarContainer object of 3 artists>"
      ]
     },
     "execution_count": 51,
     "metadata": {},
     "output_type": "execute_result"
    },
    {
     "data": {
      "image/png": "[encoded data removed]",
      "text/plain": [
       "<Figure size 1080x720 with 1 Axes>"
      ]
     },
     "metadata": {
      "needs_background": "light"
     },
     "output_type": "display_data"
    }
   ],
   "source": [
    "fig, ax = plt.subplots()\n",
    "thickxdata = np.arange(-1.,1.,0.1)\n",
    "ax.set_xlabel('variable x (u.m.)')\n",
    "ax.set_ylabel('variable y (u.m.)')\n",
    "# ax.set_xlim(0, 5); ay.set_xlim(0, 5) PEr cambiare range plot\n",
    "plt.plot(thickxdata,c*thickxdata*thickxdata+b*thickxdata+a)\n",
    "plt.errorbar(xdata,ydata,yerr=yerr,fmt='o')"
   ]
  },
  {
   "cell_type": "raw",
   "metadata": {},
   "source": [
    "Calcolo X^2 e errore standard della stima"
   ]
  },
  {
   "cell_type": "code",
   "execution_count": 48,
   "metadata": {},
   "outputs": [
    {
     "name": "stdout",
     "output_type": "stream",
     "text": [
      " Chi^2 =  7.879670965608459\n",
      " errore standard della stima =  0.006025738445163694\n"
     ]
    }
   ],
   "source": [
    "scarto1 = (ydata-a-b*xdata-c*xdata*xdata)/yerr\n",
    "scarto2 = (ydata-a-b*xdata-c*xdata*xdata)\n",
    "chi2 = (scarto1*scarto1).sum()\n",
    "errstSq = (scarto2*scarto2/(npoint-3)).sum()\n",
    "errst = np.sqrt(errstSq)\n",
    "print(\" Chi^2 = \",chi2)\n",
    "print (\" errore standard della stima = \",errst)"
   ]
  },
  {
   "cell_type": "raw",
   "metadata": {},
   "source": [
    "Calcolo coefficiente di determinazione"
   ]
  },
  {
   "cell_type": "code",
   "execution_count": 49,
   "metadata": {},
   "outputs": [
    {
     "name": "stdout",
     "output_type": "stream",
     "text": [
      "coefficiente determinazione =  0.9994025763116183\n"
     ]
    }
   ],
   "source": [
    "sum_y = (ydata).sum()\n",
    "ymean=sum_y/npoint\n",
    "ameany = ydata-ymean\n",
    "vary = (ameany*ameany).sum()\n",
    "yatteso =a+b*xdata+c*xdata*xdata\n",
    "scarto3=yatteso-ymean\n",
    "var_numeratore=(scarto3*scarto3).sum()\n",
    "detercoeff2=var_numeratore/vary\n",
    "detercoeff=np.sqrt(detercoeff2)\n",
    "print(\"coefficiente determinazione = \",detercoeff)"
   ]
  },
  {
   "cell_type": "code",
   "execution_count": 56,
   "metadata": {},
   "outputs": [
    {
     "name": "stdout",
     "output_type": "stream",
     "text": [
      "Parametro a [cm]\n",
      "Parametro b [N])\n",
      "Parametro c [cm])\n",
      "Errore su a [N])\n",
      "Errore su b [N])\n",
      "Errore su c [N])\n",
      "Errore su c [N])\n",
      "len 8\n",
      "Chi quadro critico,  11.070497693516351\n",
      "Chi quadro sospetto,  1.1454762260617692\n",
      "Esito del test,  Accettato\n",
      "\n",
      "\n",
      "\n",
      "\n",
      "               Variabile    Valore\n",
      "0       Parametro a [cm] -0.002187\n",
      "1       Parametro b [N])  0.210417\n",
      "2      Parametro c [cm])  0.244687\n",
      "3       Errore su a [N])  0.004537\n",
      "4       Errore su b [N])  0.002592\n",
      "5       Errore su c [N])  0.002581\n",
      "6  Coeff. di determinaz.  0.999403\n",
      "\n",
      "\n",
      "                    Variabile              Valore\n",
      "0  Livello di significatività                0.05\n",
      "1            Gradi di libertà  11.070497693516351\n",
      "2                 Chi quadro    7.879670965608459\n",
      "3          Chi quadro critico  11.070497693516351\n",
      "4         Chi quadro sospetto  1.1454762260617692\n",
      "5                       Esito           Accettato\n",
      "\n",
      "\n",
      "\n",
      "\n",
      "\\begin{table}[ht]\n",
      "\\centering\n",
      "\\caption{Dati relativi al fit lineare}\n",
      "\\label{corr240}\n",
      "\\begin{tabular}{lr}\n",
      "\\toprule\n",
      "            Variabile &    Valore \\\\\n",
      "\\midrule\n",
      "     Parametro a [cm] & -0.002187 \\\\\n",
      "     Parametro b [N]) &  0.210417 \\\\\n",
      "    Parametro c [cm]) &  0.244687 \\\\\n",
      "     Errore su a [N]) &  0.004537 \\\\\n",
      "     Errore su b [N]) &  0.002592 \\\\\n",
      "     Errore su c [N]) &  0.002581 \\\\\n",
      "Coeff. di determinaz. &  0.999403 \\\\\n",
      "\\bottomrule\n",
      "\\end{tabular}\n",
      "\\end{table}\n",
      "\n",
      "\n",
      "\n",
      "\\begin{table}[ht]\n",
      "\\centering\n",
      "\\caption{Dati relativi al test del $\\chi^2$}\n",
      "\\label{fit21}\n",
      "\\begin{tabular}{ll}\n",
      "\\toprule\n",
      "                 Variabile &             Valore \\\\\n",
      "\\midrule\n",
      "Livello di significatività &               0.05 \\\\\n",
      "          Gradi di libertà & 11.070497693516351 \\\\\n",
      "               Chi quadro  &  7.879670965608459 \\\\\n",
      "        Chi quadro critico & 11.070497693516351 \\\\\n",
      "       Chi quadro sospetto & 1.1454762260617692 \\\\\n",
      "                     Esito &          Accettato \\\\\n",
      "\\bottomrule\n",
      "\\end{tabular}\n",
      "\\end{table}\n",
      "\n",
      "\n",
      "\n"
     ]
    }
   ],
   "source": [
    "\n",
    "#CSV Fit\n",
    "#First column merging with um\n",
    "aatext='Parametro a ['+ unma+ ']'\n",
    "print(aatext)\n",
    "abtext='Parametro b ['+ unmb+ '])'\n",
    "print(abtext)\n",
    "actext='Parametro c ['+ unma+ '])'\n",
    "print(actext)\n",
    "erratext='Errore su a ['+ unmb+ '])'\n",
    "print(erratext)\n",
    "errbtext='Errore su b ['+ unmb+ '])'\n",
    "print(errbtext)\n",
    "errctext='Errore su c ['+ unmb+ '])'\n",
    "print(errctext)\n",
    "determtext='Coeff. di determinaz.'\n",
    "print(errctext)\n",
    "#Creating Arrays\n",
    "corrhead = np.array(['Variabile','Valore'])\n",
    "\n",
    "aa = np.array([aatext,c])\n",
    "ab = np.array([abtext,b])\n",
    "ac = np.array([actext,a])\n",
    "aerra = np.array([erratext,errc])\n",
    "aerrb = np.array([errbtext,errb])\n",
    "aerrc = np.array([errctext,erra])\n",
    "\n",
    "adeterm = np.array([determtext,detercoeff])\n",
    "#writing csv\n",
    "with open('corr.csv', mode='w') as corr:\n",
    "    corr_writer = csv.writer(corr, delimiter=',', quotechar='\"', quoting=csv.QUOTE_MINIMAL)\n",
    "    corr_writer.writerow(corrhead)\n",
    "    corr_writer.writerow(aa)\n",
    "    corr_writer.writerow(ab)\n",
    "    corr_writer.writerow(ac)\n",
    "    corr_writer.writerow(aerra) \n",
    "    corr_writer.writerow(aerrb) \n",
    "    corr_writer.writerow(aerrc) \n",
    "    corr_writer.writerow(adeterm)\n",
    "\n",
    "#Plot\n",
    "#-----------------------------------------------------------------------------------------------------\n",
    "\n",
    "#Chi2 logic test\n",
    "def check(c2,cr,su):\n",
    "    if c2>cr:\n",
    "        return 'Rigettato'\n",
    "    elif c2<cr and c2>su:\n",
    "        return 'Accettato'\n",
    "    elif c2<su:\n",
    "        return 'Sospetto'\n",
    "    else:\n",
    "        print('Check error')\n",
    "        return 0\n",
    "    \n",
    "#Numero GDL\n",
    "n=len(xdata)-3\n",
    "print('len',len(xdata))\n",
    "crit=scipy.stats.chi2.ppf(1-alpha , df=n)\n",
    "sus=scipy.stats.chi2.ppf(alpha , df=n)\n",
    "\n",
    "print('Chi quadro critico, ',crit)\n",
    "print('Chi quadro sospetto, ',sus)\n",
    "es=check(chi2,crit,sus)\n",
    "print(\"Esito del test, \",es)\n",
    "\n",
    "#Arrays for csv\n",
    "asig = np.array(['Livello di significatività',alpha])\n",
    "agdl = np.array(['Gradi di libertà',crit])\n",
    "acrit = np.array(['Chi quadro critico',crit])\n",
    "chi = np.array(['Chi quadro ',chi2])\n",
    "asus = np.array(['Chi quadro sospetto',sus])\n",
    "esito = np.array(['Esito',es])\n",
    "head = np.array(['Variabile','Valore'])\n",
    "#CSV writing\n",
    "with open('fit.csv', mode='w') as fit:\n",
    "    fit_writer = csv.writer(fit, delimiter=',', quotechar='\"', quoting=csv.QUOTE_MINIMAL)\n",
    "    fit_writer.writerow(head)\n",
    "    fit_writer.writerow(asig)\n",
    "    fit_writer.writerow(agdl)\n",
    "    fit_writer.writerow(chi)    \n",
    "    fit_writer.writerow(acrit)\n",
    "    fit_writer.writerow(asus)\n",
    "    fit_writer.writerow(esito)   \n",
    "    \n",
    "print('')\n",
    "print('')\n",
    "\n",
    "dfcorr = pd.read_csv ('corr.csv')\n",
    "dffit = pd.read_csv ('fit.csv')\n",
    "    \n",
    "print('')\n",
    "print('')\n",
    "print(dfcorr)\n",
    "    \n",
    "print('')\n",
    "print('')\n",
    "print(dffit)\n",
    "    \n",
    "print('')\n",
    "print('')\n",
    "indexcorr='corr'+str(randint(0, 1000))\n",
    "indexfit='fit'+str(randint(0, 1000))\n",
    "    \n",
    "print('')\n",
    "print('')\n",
    "print(dfcorr.to_latex(index=False, caption='Dati relativi al fit lineare', bold_rows=True, label=indexcorr, position='ht'))\n",
    "    \n",
    "print('')\n",
    "print('')\n",
    "print(dffit.to_latex(index=False,  caption='Dati relativi al test del $\\chi^2$', bold_rows=True, label=indexfit, position='ht'))\n",
    "\n",
    "    \n",
    "print('')\n",
    "print('')\n"
   ]
  },
  {
   "cell_type": "code",
   "execution_count": null,
   "metadata": {},
   "outputs": [],
   "source": []
  }
 ],
 "metadata": {
  "kernelspec": {
   "display_name": "Python 3",
   "language": "python",
   "name": "python3"
  },
  "language_info": {
   "codemirror_mode": {
    "name": "ipython",
    "version": 3
   },
   "file_extension": ".py",
   "mimetype": "text/x-python",
   "name": "python",
   "nbconvert_exporter": "python",
   "pygments_lexer": "ipython3",
   "version": "3.8.8"
  }
 },
 "nbformat": 4,
 "nbformat_minor": 4
}
