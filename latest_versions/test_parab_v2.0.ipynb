{
 "cells": [
  {
   "cell_type": "markdown",
   "metadata": {},
   "source": [
    "### Given two list of x and y coordinates, and a list of errors on y, find the parabola that minimizes the sum of square distances between the parabola and the (x,y) points."
   ]
  },
  {
   "cell_type": "markdown",
   "metadata": {},
   "source": [
    "### XLSX TO CSV"
   ]
  },
  {
   "cell_type": "code",
   "execution_count": 109,
   "metadata": {},
   "outputs": [
    {
     "name": "stdout",
     "output_type": "stream",
     "text": [
      "\n",
      " DataFrame di dati.csv: \n",
      "\n"
     ]
    },
    {
     "data": {
      "text/html": [
       "<div>\n",
       "<style scoped>\n",
       "    .dataframe tbody tr th:only-of-type {\n",
       "        vertical-align: middle;\n",
       "    }\n",
       "\n",
       "    .dataframe tbody tr th {\n",
       "        vertical-align: top;\n",
       "    }\n",
       "\n",
       "    .dataframe thead th {\n",
       "        text-align: right;\n",
       "    }\n",
       "</style>\n",
       "<table border=\"1\" class=\"dataframe\">\n",
       "  <thead>\n",
       "    <tr style=\"text-align: right;\">\n",
       "      <th></th>\n",
       "      <th>15.05</th>\n",
       "      <th>17.37</th>\n",
       "      <th>0.01</th>\n",
       "    </tr>\n",
       "  </thead>\n",
       "  <tbody>\n",
       "    <tr>\n",
       "      <th>0</th>\n",
       "      <td>16.05</td>\n",
       "      <td>17.39</td>\n",
       "      <td>0.01</td>\n",
       "    </tr>\n",
       "    <tr>\n",
       "      <th>1</th>\n",
       "      <td>17.05</td>\n",
       "      <td>17.40</td>\n",
       "      <td>0.01</td>\n",
       "    </tr>\n",
       "    <tr>\n",
       "      <th>2</th>\n",
       "      <td>18.05</td>\n",
       "      <td>17.42</td>\n",
       "      <td>0.01</td>\n",
       "    </tr>\n",
       "    <tr>\n",
       "      <th>3</th>\n",
       "      <td>19.05</td>\n",
       "      <td>17.44</td>\n",
       "      <td>0.01</td>\n",
       "    </tr>\n",
       "  </tbody>\n",
       "</table>\n",
       "</div>"
      ],
      "text/plain": [
       "   15.05  17.37  0.01\n",
       "0  16.05  17.39  0.01\n",
       "1  17.05  17.40  0.01\n",
       "2  18.05  17.42  0.01\n",
       "3  19.05  17.44  0.01"
      ]
     },
     "metadata": {},
     "output_type": "display_data"
    }
   ],
   "source": [
    "import pandas as pd\n",
    "from IPython.display import display\n",
    "\n",
    "##Create or empty dati csv\n",
    "open('dati.csv', 'w').close()\n",
    "\n",
    "read_file = pd.read_excel(r'datiexx.xlsx')\n",
    "read_file.to_csv(r'dati.csv', index = False, header=False)\n",
    "datitestdf = pd.read_csv('dati.csv')\n",
    "\n",
    "print('\\n','DataFrame di dati.csv:','\\n')\n",
    "display(datitestdf)"
   ]
  },
  {
   "cell_type": "code",
   "execution_count": 110,
   "metadata": {},
   "outputs": [],
   "source": [
    "\n",
    "from sympy import *\n",
    "\n",
    "import numpy as np\n",
    "import scipy.stats\n",
    "import csv\n",
    "import matplotlib.pyplot as plt\n",
    "from IPython.display import display, HTML, Markdown\n",
    "import pandas as pd\n",
    "from random import randint\n",
    "xx, yy, aa, bb, cc = symbols('xx yy aa bb cc')\n",
    "\n",
    "#Livello di criticità es. (.05)\n",
    "alpha=.05\n",
    "unma='cm'\n",
    "unmb='N'\n",
    "plt.rcParams['figure.figsize'] = [15, 10]\n",
    "\n",
    "#Inserire titolo asse x:\n",
    "customxlabel='Altezza immersa (m)'\n",
    "\n",
    "#Inserire titolo asse y:\n",
    "customylabel='Spinta di Archimede (N)'\n",
    "\n",
    "#Inserire titolo del grafico:\n",
    "customtitle='Titolo del grafico'\n"
   ]
  },
  {
   "cell_type": "code",
   "execution_count": 111,
   "metadata": {},
   "outputs": [
    {
     "name": "stdout",
     "output_type": "stream",
     "text": [
      "\n",
      "15.05\n",
      "19.05\n",
      "0.5\n",
      "8.525\n"
     ]
    }
   ],
   "source": [
    "###Si comprimono i valori di x tra -1 e 1 : se non serve decommentare l'ultima riga\n",
    "\n",
    "##Display tables side by side\n",
    "\n",
    "from IPython.display import display_html\n",
    "def display_side_by_side(*args):\n",
    "    html_str=''\n",
    "    for df in args:\n",
    "        html_str+=df.to_html()\n",
    "    display_html(html_str.replace('table','table style=\"display:inline\"'),raw=True)\n",
    "    \n",
    "##Create or empty corr and fit csv\n",
    "open('corr.csv', 'w').close()\n",
    "open('fit.csv', 'w').close()\n",
    "\n",
    "\n",
    "#Importo dati.csv con tre colonne (x, y, yerr) in tre liste\n",
    "\n",
    "data = csv.reader(open('dati.csv', 'r'), delimiter=\",\", quotechar='|')\n",
    "lxcol, lycol, lyerrcol = [], [], []\n",
    "\n",
    "for row in data:\n",
    "    lxcol.append(row[0])\n",
    "    lycol.append(row[1])\n",
    "    lyerrcol.append(row[2])\n",
    "    \n",
    "#Converto in array\n",
    "ydatap = np.asarray(lycol, dtype=np.float64)\n",
    "\n",
    "yerrp = np.asarray(lyerrcol, dtype=np.float64)\n",
    "print('')\n",
    "\n",
    "xdataor = np.asarray(lxcol, dtype=np.float64)\n",
    "npoint = len(xdataor)\n",
    "npoint\n",
    "ax,bx = float(xdataor[0]),float(xdataor[npoint-1])\n",
    "apx,bpx = 2./(bx-ax),(bx + ax)/(bx - ax)\n",
    "print(ax)\n",
    "print(bx)\n",
    "print(apx)\n",
    "print(bpx)\n",
    "xdata = xdataor*apx - bpx\n",
    "xdata\n",
    "\n",
    "#xdata=xdataor\n",
    "\n",
    "ydata = ydatap\n",
    "yerr = yerrp\n",
    "if (len(xdata)!=len(ydata)): print (\"dimensioni vettori disuguali\")\n",
    "if (len(yerr)!=len(ydata)) : print (\"dimensioni vettori disuguali\")"
   ]
  },
  {
   "cell_type": "markdown",
   "metadata": {},
   "source": [
    "We want to find the parameters $a$ and $b$ of the parabola $y = c x^2 + b x + a$ which minimize:\n",
    "$ \\chi^2 = \\sum_i \\frac{(y_i - c x_i^2 - b x_i - a)^2}{\\sigma_i^2}$"
   ]
  },
  {
   "cell_type": "markdown",
   "metadata": {},
   "source": [
    "The minimum condition can be derived expanding $(yy - cc \\cdot xx^2 - bb \\cdot xx - aa)^2$, and equating the derivatives with respect to $aa$, $bb$, $cc$ to zero. "
   ]
  },
  {
   "cell_type": "code",
   "execution_count": 112,
   "metadata": {},
   "outputs": [
    {
     "data": {
      "text/markdown": [
       "### Calcolo delle derivate di X^2"
      ],
      "text/plain": [
       "<IPython.core.display.Markdown object>"
      ]
     },
     "metadata": {},
     "output_type": "display_data"
    },
    {
     "data": {
      "text/latex": [
       "$\\displaystyle aa^{2} + 2 aa bb xx + 2 aa cc xx^{2} - 2 aa yy + bb^{2} xx^{2} + 2 bb cc xx^{3} - 2 bb xx yy + cc^{2} xx^{4} - 2 cc xx^{2} yy + yy^{2}$"
      ],
      "text/plain": [
       "aa**2 + 2*aa*bb*xx + 2*aa*cc*xx**2 - 2*aa*yy + bb**2*xx**2 + 2*bb*cc*xx**3 - 2*bb*xx*yy + cc**2*xx**4 - 2*cc*xx**2*yy + yy**2"
      ]
     },
     "metadata": {},
     "output_type": "display_data"
    },
    {
     "data": {
      "text/latex": [
       "$\\displaystyle 2 aa + 2 bb xx + 2 cc xx^{2} - 2 yy$"
      ],
      "text/plain": [
       "2*aa + 2*bb*xx + 2*cc*xx**2 - 2*yy"
      ]
     },
     "metadata": {},
     "output_type": "display_data"
    },
    {
     "data": {
      "text/latex": [
       "$\\displaystyle 2 aa xx + 2 bb xx^{2} + 2 cc xx^{3} - 2 xx yy$"
      ],
      "text/plain": [
       "2*aa*xx + 2*bb*xx**2 + 2*cc*xx**3 - 2*xx*yy"
      ]
     },
     "metadata": {},
     "output_type": "display_data"
    },
    {
     "data": {
      "text/latex": [
       "$\\displaystyle 2 aa xx^{2} + 2 bb xx^{3} + 2 cc xx^{4} - 2 xx^{2} yy$"
      ],
      "text/plain": [
       "2*aa*xx**2 + 2*bb*xx**3 + 2*cc*xx**4 - 2*xx**2*yy"
      ]
     },
     "metadata": {},
     "output_type": "display_data"
    },
    {
     "name": "stdout",
     "output_type": "stream",
     "text": [
      "\n"
     ]
    },
    {
     "data": {
      "text/plain": [
       "array([[50000.,     0., 25000.],\n",
       "       [    0., 25000.,     0.],\n",
       "       [25000.,     0., 21250.]])"
      ]
     },
     "metadata": {},
     "output_type": "display_data"
    },
    {
     "name": "stdout",
     "output_type": "stream",
     "text": [
      "\n"
     ]
    },
    {
     "data": {
      "text/plain": [
       "array([[ 4.85714286e-05,  0.00000000e+00, -5.71428571e-05],\n",
       "       [ 0.00000000e+00,  4.00000000e-05,  0.00000000e+00],\n",
       "       [-5.71428571e-05,  0.00000000e+00,  1.14285714e-04]])"
      ]
     },
     "metadata": {},
     "output_type": "display_data"
    },
    {
     "name": "stdout",
     "output_type": "stream",
     "text": [
      "\n"
     ]
    },
    {
     "data": {
      "text/markdown": [
       "### Check D^(-1)D = I"
      ],
      "text/plain": [
       "<IPython.core.display.Markdown object>"
      ]
     },
     "metadata": {},
     "output_type": "display_data"
    },
    {
     "name": "stdout",
     "output_type": "stream",
     "text": [
      "\n"
     ]
    },
    {
     "data": {
      "text/plain": [
       "array([[ 1.00000000e+00,  0.00000000e+00, -1.20129601e-16],\n",
       "       [ 0.00000000e+00,  1.00000000e+00,  0.00000000e+00],\n",
       "       [-7.10694524e-17,  0.00000000e+00,  1.00000000e+00]])"
      ]
     },
     "metadata": {},
     "output_type": "display_data"
    },
    {
     "name": "stdout",
     "output_type": "stream",
     "text": [
      "\n",
      "\n"
     ]
    },
    {
     "data": {
      "text/plain": [
       "array([8.70200e+05, 8.50000e+02, 4.35125e+05])"
      ]
     },
     "metadata": {},
     "output_type": "display_data"
    },
    {
     "name": "stdout",
     "output_type": "stream",
     "text": [
      "\n"
     ]
    },
    {
     "data": {
      "text/plain": [
       "array([1.74025714e+01, 3.40000000e-02, 2.85714286e-03])"
      ]
     },
     "metadata": {},
     "output_type": "display_data"
    },
    {
     "name": "stdout",
     "output_type": "stream",
     "text": [
      "\n"
     ]
    },
    {
     "data": {
      "text/markdown": [
       "### Parametri fit"
      ],
      "text/plain": [
       "<IPython.core.display.Markdown object>"
      ]
     },
     "metadata": {},
     "output_type": "display_data"
    },
    {
     "name": "stdout",
     "output_type": "stream",
     "text": [
      " a =  17.402571428571427\n",
      " b =  0.034\n",
      " c =  0.002857142857145334\n",
      "\n"
     ]
    },
    {
     "data": {
      "text/markdown": [
       "### Varianze ed errori sui parametri"
      ],
      "text/plain": [
       "<IPython.core.display.Markdown object>"
      ]
     },
     "metadata": {},
     "output_type": "display_data"
    },
    {
     "name": "stdout",
     "output_type": "stream",
     "text": [
      "\n",
      " errore su a =  0.006969320524371696\n",
      " errore su b =  0.006324555320336759\n",
      " errore su c =  0.010690449676496976\n",
      "\n"
     ]
    },
    {
     "data": {
      "text/markdown": [
       "### Chi quadro"
      ],
      "text/plain": [
       "<IPython.core.display.Markdown object>"
      ]
     },
     "metadata": {},
     "output_type": "display_data"
    },
    {
     "name": "stdout",
     "output_type": "stream",
     "text": [
      "\n",
      " Chi^2 =  0.22857142857152032\n",
      " errore standard della stima =  0.003380617018914745\n",
      "\n"
     ]
    },
    {
     "data": {
      "text/markdown": [
       "### Calcolo determinazione"
      ],
      "text/plain": [
       "<IPython.core.display.Markdown object>"
      ]
     },
     "metadata": {},
     "output_type": "display_data"
    },
    {
     "name": "stdout",
     "output_type": "stream",
     "text": [
      "\n",
      "coefficiente determinazione =  0.9960784162656128\n",
      "Parametro a [cm]\n",
      "Parametro b [N]\n",
      "Parametro c [cm]\n",
      "Errore su a [N]\n",
      "Errore su b [N]\n",
      "Errore su c [N]\n",
      "Errore su c [N]\n",
      "len 5\n",
      "Chi quadro critico,  5.991464547107979\n",
      "Chi quadro sospetto,  0.10258658877510106\n",
      "Esito del test,  Accettato\n",
      "\n",
      "\n"
     ]
    },
    {
     "data": {
      "text/markdown": [
       "### Dataframe di correlazione e fit"
      ],
      "text/plain": [
       "<IPython.core.display.Markdown object>"
      ]
     },
     "metadata": {},
     "output_type": "display_data"
    },
    {
     "name": "stdout",
     "output_type": "stream",
     "text": [
      "\n",
      "\n"
     ]
    },
    {
     "data": {
      "text/html": [
       "<table style=\"display:inline\" border=\"1\" class=\"dataframe\">\n",
       "  <thead>\n",
       "    <tr style=\"text-align: right;\">\n",
       "      <th></th>\n",
       "      <th>Variabile</th>\n",
       "      <th>Valore</th>\n",
       "    </tr>\n",
       "  </thead>\n",
       "  <tbody>\n",
       "    <tr>\n",
       "      <th>0</th>\n",
       "      <td>Parametro a [cm]</td>\n",
       "      <td>0.002857</td>\n",
       "    </tr>\n",
       "    <tr>\n",
       "      <th>1</th>\n",
       "      <td>Parametro b [N]</td>\n",
       "      <td>0.034000</td>\n",
       "    </tr>\n",
       "    <tr>\n",
       "      <th>2</th>\n",
       "      <td>Parametro c [cm]</td>\n",
       "      <td>17.402571</td>\n",
       "    </tr>\n",
       "    <tr>\n",
       "      <th>3</th>\n",
       "      <td>Errore su a [N]</td>\n",
       "      <td>0.010690</td>\n",
       "    </tr>\n",
       "    <tr>\n",
       "      <th>4</th>\n",
       "      <td>Errore su b [N]</td>\n",
       "      <td>0.006325</td>\n",
       "    </tr>\n",
       "    <tr>\n",
       "      <th>5</th>\n",
       "      <td>Errore su c [N]</td>\n",
       "      <td>0.006969</td>\n",
       "    </tr>\n",
       "    <tr>\n",
       "      <th>6</th>\n",
       "      <td>Coeff. di determinaz.</td>\n",
       "      <td>0.996078</td>\n",
       "    </tr>\n",
       "  </tbody>\n",
       "</table style=\"display:inline\"><table style=\"display:inline\" border=\"1\" class=\"dataframe\">\n",
       "  <thead>\n",
       "    <tr style=\"text-align: right;\">\n",
       "      <th></th>\n",
       "      <th>Variabile</th>\n",
       "      <th>Valore</th>\n",
       "    </tr>\n",
       "  </thead>\n",
       "  <tbody>\n",
       "    <tr>\n",
       "      <th>0</th>\n",
       "      <td>Livello di significatività</td>\n",
       "      <td>0.05</td>\n",
       "    </tr>\n",
       "    <tr>\n",
       "      <th>1</th>\n",
       "      <td>Gradi di libertà</td>\n",
       "      <td>5.991464547107979</td>\n",
       "    </tr>\n",
       "    <tr>\n",
       "      <th>2</th>\n",
       "      <td>Chi quadro</td>\n",
       "      <td>0.22857142857152032</td>\n",
       "    </tr>\n",
       "    <tr>\n",
       "      <th>3</th>\n",
       "      <td>Chi quadro critico</td>\n",
       "      <td>5.991464547107979</td>\n",
       "    </tr>\n",
       "    <tr>\n",
       "      <th>4</th>\n",
       "      <td>Chi quadro sospetto</td>\n",
       "      <td>0.10258658877510106</td>\n",
       "    </tr>\n",
       "    <tr>\n",
       "      <th>5</th>\n",
       "      <td>Esito</td>\n",
       "      <td>Accettato</td>\n",
       "    </tr>\n",
       "  </tbody>\n",
       "</table style=\"display:inline\">"
      ]
     },
     "metadata": {},
     "output_type": "display_data"
    },
    {
     "name": "stdout",
     "output_type": "stream",
     "text": [
      "\n",
      "\n",
      "\n",
      "\n",
      "\\begin{table}[ht]\n",
      "\\centering\n",
      "\\caption{Dati relativi al fit lineare}\n",
      "\\label{corr531}\n",
      "\\begin{tabular}{lr}\n",
      "\\toprule\n",
      "            Variabile &    Valore \\\\\n",
      "\\midrule\n",
      "     Parametro a [cm] &  0.002857 \\\\\n",
      "      Parametro b [N] &  0.034000 \\\\\n",
      "     Parametro c [cm] & 17.402571 \\\\\n",
      "      Errore su a [N] &  0.010690 \\\\\n",
      "      Errore su b [N] &  0.006325 \\\\\n",
      "      Errore su c [N] &  0.006969 \\\\\n",
      "Coeff. di determinaz. &  0.996078 \\\\\n",
      "\\bottomrule\n",
      "\\end{tabular}\n",
      "\\end{table}\n",
      "\n",
      "\n",
      "\n",
      "\\begin{table}[ht]\n",
      "\\centering\n",
      "\\caption{Dati relativi al test del $\\chi^2$}\n",
      "\\label{fit925}\n",
      "\\begin{tabular}{ll}\n",
      "\\toprule\n",
      "                 Variabile &              Valore \\\\\n",
      "\\midrule\n",
      "Livello di significatività &                0.05 \\\\\n",
      "          Gradi di libertà &   5.991464547107979 \\\\\n",
      "               Chi quadro  & 0.22857142857152032 \\\\\n",
      "        Chi quadro critico &   5.991464547107979 \\\\\n",
      "       Chi quadro sospetto & 0.10258658877510106 \\\\\n",
      "                     Esito &           Accettato \\\\\n",
      "\\bottomrule\n",
      "\\end{tabular}\n",
      "\\end{table}\n",
      "\n",
      "\n",
      "\n"
     ]
    },
    {
     "data": {
      "text/markdown": [
       "### Figura in LaTeX"
      ],
      "text/plain": [
       "<IPython.core.display.Markdown object>"
      ]
     },
     "metadata": {},
     "output_type": "display_data"
    },
    {
     "name": "stdout",
     "output_type": "stream",
     "text": [
      "\n",
      "\\begin{figure}[!ht]\n",
      "\\includegraphics[width=12cm]{ fig868.png }\n",
      "\\centering\n",
      "\\caption{Fit lineare di Altezza immersa (m)  e  Spinta di Archimede (N) }\n",
      "\\end{figure}\n",
      "\n",
      "\n"
     ]
    },
    {
     "data": {
      "text/plain": [
       "<Figure size 1080x720 with 0 Axes>"
      ]
     },
     "metadata": {},
     "output_type": "display_data"
    },
    {
     "data": {
      "image/png": "[encoded data removed]",
      "text/plain": [
       "<Figure size 1080x720 with 1 Axes>"
      ]
     },
     "metadata": {
      "needs_background": "light"
     },
     "output_type": "display_data"
    }
   ],
   "source": [
    "display(Markdown(\"### Calcolo delle derivate di X^2\"))\n",
    "\n",
    "s = expand((yy - cc*xx**2 - bb*xx - aa)**2)\n",
    "display(s)\n",
    "s_aa = diff(s,aa)\n",
    "display(s_aa)\n",
    "s_bb = diff(s,bb)\n",
    "display(s_bb)\n",
    "s_cc = diff(s,cc)\n",
    "display(s_cc)\n",
    "\n",
    "yerrSq = yerr*yerr\n",
    "sum_one_over_yerrSq = (1./yerrSq).sum()\n",
    "sum_x_over_yerrSq = (xdata/yerrSq).sum()\n",
    "sum_x2_over_yerrSq = (xdata*xdata/yerrSq).sum()\n",
    "sum_x3_over_yerrSq = (xdata*xdata*xdata/yerrSq).sum()\n",
    "sum_x4_over_yerrSq = (xdata*xdata*xdata*xdata/yerrSq).sum()\n",
    "sum_y_over_yerrSq = (ydata/yerrSq).sum()\n",
    "sum_xy_over_yerrSq = (xdata*ydata/yerrSq).sum()\n",
    "sum_x2y_over_yerrSq = (xdata*xdata*ydata/yerrSq).sum()\n",
    "\n",
    "##Calcolo matrice D e matrice inversa\n",
    "\n",
    "matD = np.array([[sum_one_over_yerrSq,sum_x_over_yerrSq,sum_x2_over_yerrSq],\n",
    "                [sum_x_over_yerrSq,sum_x2_over_yerrSq,sum_x3_over_yerrSq],\n",
    "                [sum_x2_over_yerrSq,sum_x3_over_yerrSq,sum_x4_over_yerrSq]])\n",
    "matD_inv = np.linalg.inv(matD)\n",
    "print()\n",
    "display(matD)\n",
    "print()\n",
    "display(matD_inv)\n",
    "print()\n",
    "display(Markdown(\"### Check D^(-1)D = I\"))\n",
    "print()\n",
    "display(np.dot(matD,matD_inv))\n",
    "print()\n",
    "#Calcolo matrice B\n",
    "\n",
    "matB = np.array([sum_y_over_yerrSq,sum_xy_over_yerrSq,sum_x2y_over_yerrSq])\n",
    "print()\n",
    "display(matB)\n",
    "print()\n",
    "display(np.dot(matD_inv,matB))\n",
    "print()\n",
    "\n",
    "##Calcolo parametri fit (Attenzione a cifre significative e unita' di misura!!)\n",
    "display(Markdown(\"### Parametri fit\"))\n",
    "\n",
    "a, b, c = np.dot(matD_inv,matB)[0],np.dot(matD_inv,matB)[1],np.dot(matD_inv,matB)[2]\n",
    "print(\" a = \", a)\n",
    "print(\" b = \", b)\n",
    "print(\" c = \", c)\n",
    "print()\n",
    "display(Markdown(\"### Varianze ed errori sui parametri\"))\n",
    "print()\n",
    "vara, varb, varc= matD_inv[0,0], matD_inv[1,1], matD_inv[2,2]\n",
    "erra=np.sqrt(vara)\n",
    "errb=np.sqrt(varb)\n",
    "errc=np.sqrt(varc)\n",
    "print(\" errore su a = \",erra)\n",
    "print(\" errore su b = \",errb)\n",
    "print(\" errore su c = \",errc)\n",
    "print()\n",
    "display(Markdown(\"### Chi quadro\"))\n",
    "print()\n",
    "scarto1 = (ydata-a-b*xdata-c*xdata*xdata)/yerr\n",
    "scarto2 = (ydata-a-b*xdata-c*xdata*xdata)\n",
    "chi2 = (scarto1*scarto1).sum()\n",
    "errstSq = (scarto2*scarto2/(npoint-3)).sum()\n",
    "errst = np.sqrt(errstSq)\n",
    "print(\" Chi^2 = \",chi2)\n",
    "print (\" errore standard della stima = \",errst)\n",
    "print()\n",
    "display(Markdown(\"### Calcolo determinazione\"))\n",
    "print()\n",
    "sum_y = (ydata).sum()\n",
    "ymean=sum_y/npoint\n",
    "ameany = ydata-ymean\n",
    "vary = (ameany*ameany).sum()\n",
    "yatteso =a+b*xdata+c*xdata*xdata\n",
    "scarto3=yatteso-ymean\n",
    "var_numeratore=(scarto3*scarto3).sum()\n",
    "detercoeff2=var_numeratore/vary\n",
    "detercoeff=np.sqrt(detercoeff2)\n",
    "print(\"coefficiente determinazione = \",detercoeff)\n",
    "\n",
    "#CSV Fit\n",
    "#First column merging with um\n",
    "aatext='Parametro a ['+ unma+ ']'\n",
    "print(aatext)\n",
    "abtext='Parametro b ['+ unmb+ ']'\n",
    "print(abtext)\n",
    "actext='Parametro c ['+ unma+ ']'\n",
    "print(actext)\n",
    "erratext='Errore su a ['+ unmb+ ']'\n",
    "print(erratext)\n",
    "errbtext='Errore su b ['+ unmb+ ']'\n",
    "print(errbtext)\n",
    "errctext='Errore su c ['+ unmb+ ']'\n",
    "print(errctext)\n",
    "determtext='Coeff. di determinaz.'\n",
    "print(errctext)\n",
    "#Creating Arrays\n",
    "corrhead = np.array(['Variabile','Valore'])\n",
    "\n",
    "aa = np.array([aatext,c])\n",
    "ab = np.array([abtext,b])\n",
    "ac = np.array([actext,a])\n",
    "aerra = np.array([erratext,errc])\n",
    "aerrb = np.array([errbtext,errb])\n",
    "aerrc = np.array([errctext,erra])\n",
    "\n",
    "adeterm = np.array([determtext,detercoeff])\n",
    "#writing csv\n",
    "with open('corr.csv', mode='w') as corr:\n",
    "    corr_writer = csv.writer(corr, delimiter=',', quotechar='\"', quoting=csv.QUOTE_MINIMAL)\n",
    "    corr_writer.writerow(corrhead)\n",
    "    corr_writer.writerow(aa)\n",
    "    corr_writer.writerow(ab)\n",
    "    corr_writer.writerow(ac)\n",
    "    corr_writer.writerow(aerra) \n",
    "    corr_writer.writerow(aerrb) \n",
    "    corr_writer.writerow(aerrc) \n",
    "    corr_writer.writerow(adeterm)\n",
    "\n",
    "#Plot\n",
    "#-----------------------------------------------------------------------------------------------------\n",
    "\n",
    "#Chi2 logic test\n",
    "def check(c2,cr,su):\n",
    "    if c2>cr:\n",
    "        return 'Rigettato'\n",
    "    elif c2<cr and c2>su:\n",
    "        return 'Accettato'\n",
    "    elif c2<su:\n",
    "        return 'Sospetto'\n",
    "    else:\n",
    "        print('Check error')\n",
    "        return 0\n",
    "    \n",
    "#Numero GDL\n",
    "n=len(xdata)-3\n",
    "print('len',len(xdata))\n",
    "crit=scipy.stats.chi2.ppf(1-alpha , df=n)\n",
    "sus=scipy.stats.chi2.ppf(alpha , df=n)\n",
    "\n",
    "print('Chi quadro critico, ',crit)\n",
    "print('Chi quadro sospetto, ',sus)\n",
    "es=check(chi2,crit,sus)\n",
    "print(\"Esito del test, \",es)\n",
    "\n",
    "#Arrays for csv\n",
    "asig = np.array(['Livello di significatività',alpha])\n",
    "agdl = np.array(['Gradi di libertà',crit])\n",
    "acrit = np.array(['Chi quadro critico',crit])\n",
    "chi = np.array(['Chi quadro ',chi2])\n",
    "asus = np.array(['Chi quadro sospetto',sus])\n",
    "esito = np.array(['Esito',es])\n",
    "head = np.array(['Variabile','Valore'])\n",
    "#CSV writing\n",
    "with open('fit.csv', mode='w') as fit:\n",
    "    fit_writer = csv.writer(fit, delimiter=',', quotechar='\"', quoting=csv.QUOTE_MINIMAL)\n",
    "    fit_writer.writerow(head)\n",
    "    fit_writer.writerow(asig)\n",
    "    fit_writer.writerow(agdl)\n",
    "    fit_writer.writerow(chi)    \n",
    "    fit_writer.writerow(acrit)\n",
    "    fit_writer.writerow(asus)\n",
    "    fit_writer.writerow(esito)   \n",
    "    \n",
    "print('')\n",
    "print('')\n",
    "\n",
    "dfcorr = pd.read_csv ('corr.csv')\n",
    "dffit = pd.read_csv ('fit.csv')\n",
    "\n",
    "\n",
    "###PLOT\n",
    "randfig=str(randint(0, 9999))\n",
    "namefig='fig'+randfig+'.png'\n",
    "plt.savefig(namefig)\n",
    "\n",
    "fig, ax = plt.subplots()\n",
    "thickxdata = np.arange(-1.,1.,0.1)\n",
    "ax.set_xlabel(customxlabel)\n",
    "ax.set_ylabel(customylabel)\n",
    "ax.set_title(customtitle)\n",
    "# ax.set_xlim(0, 5); ay.set_xlim(0, 5) PEr cambiare range plot\n",
    "plt.plot(thickxdata,c*thickxdata*thickxdata+b*thickxdata+a)\n",
    "plt.errorbar(xdata,ydata,yerr=yerr,fmt='o')\n",
    "display(Markdown('### Dataframe di correlazione e fit'))\n",
    "print('\\n')\n",
    "display_side_by_side(dfcorr,dffit)\n",
    "print('')\n",
    "print('')\n",
    "indexcorr='corr'+str(randint(0, 1000))\n",
    "indexfit='fit'+str(randint(0, 1000))\n",
    "    \n",
    "print('')\n",
    "print('')\n",
    "print(dfcorr.to_latex(index=False, caption='Dati relativi al fit lineare', bold_rows=True, label=indexcorr, position='ht'))\n",
    "    \n",
    "print('')\n",
    "print('')\n",
    "print(dffit.to_latex(index=False,  caption='Dati relativi al test del $\\chi^2$', bold_rows=True, label=indexfit, position='ht'))\n",
    "\n",
    "    \n",
    "print('')\n",
    "print('')\n",
    "\n",
    "#LaTeX image handling\n",
    "display(Markdown('### Figura in LaTeX'))\n",
    "print(\"\"\"\n",
    "\\\\begin{figure}[!ht]\n",
    "\\includegraphics[width=12cm]{\"\"\",namefig,\"\"\"}\n",
    "\\centering\n",
    "\\caption{Fit lineare di\"\"\",customxlabel,\"\"\" e \"\"\",customylabel,\"\"\"}\n",
    "\\end{figure}\n",
    "\n",
    "\"\"\")\n"
   ]
  },
  {
   "cell_type": "markdown",
   "metadata": {},
   "source": []
  },
  {
   "cell_type": "code",
   "execution_count": 64,
   "metadata": {},
   "outputs": [
    {
     "name": "stdout",
     "output_type": "stream",
     "text": [
      " errore su a =  0.006969320524371696\n",
      " errore su b =  0.006324555320336759\n",
      " errore su c =  0.010690449676496976\n"
     ]
    }
   ],
   "source": []
  },
  {
   "cell_type": "code",
   "execution_count": 66,
   "metadata": {},
   "outputs": [
    {
     "name": "stdout",
     "output_type": "stream",
     "text": [
      " Chi^2 =  0.22857142857152032\n",
      " errore standard della stima =  0.003380617018914745\n"
     ]
    }
   ],
   "source": []
  },
  {
   "cell_type": "raw",
   "metadata": {},
   "source": [
    "Calcolo coefficiente di determinazione"
   ]
  },
  {
   "cell_type": "code",
   "execution_count": 37,
   "metadata": {},
   "outputs": [
    {
     "name": "stdout",
     "output_type": "stream",
     "text": [
      "coefficiente determinazione =  0.9960784162656128\n"
     ]
    }
   ],
   "source": []
  },
  {
   "cell_type": "code",
   "execution_count": 68,
   "metadata": {},
   "outputs": [
    {
     "name": "stdout",
     "output_type": "stream",
     "text": [
      "Parametro a [cm]\n",
      "Parametro b [N]\n",
      "Parametro c [cm]\n",
      "Errore su a [N]\n",
      "Errore su b [N]\n",
      "Errore su c [N]\n",
      "Errore su c [N]\n",
      "len 5\n",
      "Chi quadro critico,  5.991464547107979\n",
      "Chi quadro sospetto,  0.10258658877510106\n",
      "Esito del test,  Accettato\n",
      "\n",
      "\n"
     ]
    },
    {
     "data": {
      "text/markdown": [
       "### Dataframe di correlazione e fit"
      ],
      "text/plain": [
       "<IPython.core.display.Markdown object>"
      ]
     },
     "metadata": {},
     "output_type": "display_data"
    },
    {
     "name": "stdout",
     "output_type": "stream",
     "text": [
      "\n",
      "\n"
     ]
    },
    {
     "data": {
      "text/html": [
       "<table style=\"display:inline\" border=\"1\" class=\"dataframe\">\n",
       "  <thead>\n",
       "    <tr style=\"text-align: right;\">\n",
       "      <th></th>\n",
       "      <th>Variabile</th>\n",
       "      <th>Valore</th>\n",
       "    </tr>\n",
       "  </thead>\n",
       "  <tbody>\n",
       "    <tr>\n",
       "      <th>0</th>\n",
       "      <td>Parametro a [cm]</td>\n",
       "      <td>0.002857</td>\n",
       "    </tr>\n",
       "    <tr>\n",
       "      <th>1</th>\n",
       "      <td>Parametro b [N]</td>\n",
       "      <td>0.034000</td>\n",
       "    </tr>\n",
       "    <tr>\n",
       "      <th>2</th>\n",
       "      <td>Parametro c [cm]</td>\n",
       "      <td>17.402571</td>\n",
       "    </tr>\n",
       "    <tr>\n",
       "      <th>3</th>\n",
       "      <td>Errore su a [N]</td>\n",
       "      <td>0.010690</td>\n",
       "    </tr>\n",
       "    <tr>\n",
       "      <th>4</th>\n",
       "      <td>Errore su b [N]</td>\n",
       "      <td>0.006325</td>\n",
       "    </tr>\n",
       "    <tr>\n",
       "      <th>5</th>\n",
       "      <td>Errore su c [N]</td>\n",
       "      <td>0.006969</td>\n",
       "    </tr>\n",
       "    <tr>\n",
       "      <th>6</th>\n",
       "      <td>Coeff. di determinaz.</td>\n",
       "      <td>0.996078</td>\n",
       "    </tr>\n",
       "  </tbody>\n",
       "</table style=\"display:inline\"><table style=\"display:inline\" border=\"1\" class=\"dataframe\">\n",
       "  <thead>\n",
       "    <tr style=\"text-align: right;\">\n",
       "      <th></th>\n",
       "      <th>Variabile</th>\n",
       "      <th>Valore</th>\n",
       "    </tr>\n",
       "  </thead>\n",
       "  <tbody>\n",
       "    <tr>\n",
       "      <th>0</th>\n",
       "      <td>Livello di significatività</td>\n",
       "      <td>0.05</td>\n",
       "    </tr>\n",
       "    <tr>\n",
       "      <th>1</th>\n",
       "      <td>Gradi di libertà</td>\n",
       "      <td>5.991464547107979</td>\n",
       "    </tr>\n",
       "    <tr>\n",
       "      <th>2</th>\n",
       "      <td>Chi quadro</td>\n",
       "      <td>0.22857142857152032</td>\n",
       "    </tr>\n",
       "    <tr>\n",
       "      <th>3</th>\n",
       "      <td>Chi quadro critico</td>\n",
       "      <td>5.991464547107979</td>\n",
       "    </tr>\n",
       "    <tr>\n",
       "      <th>4</th>\n",
       "      <td>Chi quadro sospetto</td>\n",
       "      <td>0.10258658877510106</td>\n",
       "    </tr>\n",
       "    <tr>\n",
       "      <th>5</th>\n",
       "      <td>Esito</td>\n",
       "      <td>Accettato</td>\n",
       "    </tr>\n",
       "  </tbody>\n",
       "</table style=\"display:inline\">"
      ]
     },
     "metadata": {},
     "output_type": "display_data"
    },
    {
     "name": "stdout",
     "output_type": "stream",
     "text": [
      "\n",
      "\n",
      "\n",
      "\n",
      "\\begin{table}[ht]\n",
      "\\centering\n",
      "\\caption{Dati relativi al fit lineare}\n",
      "\\label{corr286}\n",
      "\\begin{tabular}{lr}\n",
      "\\toprule\n",
      "            Variabile &    Valore \\\\\n",
      "\\midrule\n",
      "     Parametro a [cm] &  0.002857 \\\\\n",
      "      Parametro b [N] &  0.034000 \\\\\n",
      "     Parametro c [cm] & 17.402571 \\\\\n",
      "      Errore su a [N] &  0.010690 \\\\\n",
      "      Errore su b [N] &  0.006325 \\\\\n",
      "      Errore su c [N] &  0.006969 \\\\\n",
      "Coeff. di determinaz. &  0.996078 \\\\\n",
      "\\bottomrule\n",
      "\\end{tabular}\n",
      "\\end{table}\n",
      "\n",
      "\n",
      "\n",
      "\\begin{table}[ht]\n",
      "\\centering\n",
      "\\caption{Dati relativi al test del $\\chi^2$}\n",
      "\\label{fit209}\n",
      "\\begin{tabular}{ll}\n",
      "\\toprule\n",
      "                 Variabile &              Valore \\\\\n",
      "\\midrule\n",
      "Livello di significatività &                0.05 \\\\\n",
      "          Gradi di libertà &   5.991464547107979 \\\\\n",
      "               Chi quadro  & 0.22857142857152032 \\\\\n",
      "        Chi quadro critico &   5.991464547107979 \\\\\n",
      "       Chi quadro sospetto & 0.10258658877510106 \\\\\n",
      "                     Esito &           Accettato \\\\\n",
      "\\bottomrule\n",
      "\\end{tabular}\n",
      "\\end{table}\n",
      "\n",
      "\n",
      "\n"
     ]
    },
    {
     "data": {
      "text/markdown": [
       "### Figura in LaTeX"
      ],
      "text/plain": [
       "<IPython.core.display.Markdown object>"
      ]
     },
     "metadata": {},
     "output_type": "display_data"
    },
    {
     "name": "stdout",
     "output_type": "stream",
     "text": [
      "\n",
      "\\begin{figure}[!ht]\n",
      "\\includegraphics[width=12cm]{ fig9077.png }\n",
      "\\centering\n",
      "\\caption{Fit lineare di Altezza immersa (m)  e  Spinta di Archimede (N) }\n",
      "\\end{figure}\n",
      "\n",
      "\n"
     ]
    },
    {
     "data": {
      "text/plain": [
       "<Figure size 1080x720 with 0 Axes>"
      ]
     },
     "metadata": {},
     "output_type": "display_data"
    },
    {
     "data": {
      "image/png": "[encoded data removed]",
      "text/plain": [
       "<Figure size 1080x720 with 1 Axes>"
      ]
     },
     "metadata": {
      "needs_background": "light"
     },
     "output_type": "display_data"
    }
   ],
   "source": []
  }
 ],
 "metadata": {
  "kernelspec": {
   "display_name": "Python 3",
   "language": "python",
   "name": "python3"
  },
  "language_info": {
   "codemirror_mode": {
    "name": "ipython",
    "version": 3
   },
   "file_extension": ".py",
   "mimetype": "text/x-python",
   "name": "python",
   "nbconvert_exporter": "python",
   "pygments_lexer": "ipython3",
   "version": "3.8.8"
  }
 },
 "nbformat": 4,
 "nbformat_minor": 4
}
