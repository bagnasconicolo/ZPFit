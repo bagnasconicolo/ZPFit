{
 "cells": [
  {
   "cell_type": "code",
   "execution_count": 105,
   "id": "a32e1a2f-d9e5-4e45-bef0-33d08c0ee865",
   "metadata": {},
   "outputs": [
    {
     "name": "stdout",
     "output_type": "stream",
     "text": [
      "no stored variable or alias gaussdata\n"
     ]
    },
    {
     "data": {
      "text/html": [
       "<div>\n",
       "<style scoped>\n",
       "    .dataframe tbody tr th:only-of-type {\n",
       "        vertical-align: middle;\n",
       "    }\n",
       "\n",
       "    .dataframe tbody tr th {\n",
       "        vertical-align: top;\n",
       "    }\n",
       "\n",
       "    .dataframe thead th {\n",
       "        text-align: right;\n",
       "    }\n",
       "</style>\n",
       "<table border=\"1\" class=\"dataframe\">\n",
       "  <thead>\n",
       "    <tr style=\"text-align: right;\">\n",
       "      <th></th>\n",
       "      <th>Nome</th>\n",
       "      <th>Valore</th>\n",
       "    </tr>\n",
       "  </thead>\n",
       "  <tbody>\n",
       "    <tr>\n",
       "      <th>0</th>\n",
       "      <td>x</td>\n",
       "      <td>3.0</td>\n",
       "    </tr>\n",
       "    <tr>\n",
       "      <th>1</th>\n",
       "      <td>mu</td>\n",
       "      <td>8.0</td>\n",
       "    </tr>\n",
       "    <tr>\n",
       "      <th>2</th>\n",
       "      <td>error on x</td>\n",
       "      <td>0.5</td>\n",
       "    </tr>\n",
       "    <tr>\n",
       "      <th>3</th>\n",
       "      <td>alpha</td>\n",
       "      <td>0.05</td>\n",
       "    </tr>\n",
       "    <tr>\n",
       "      <th>4</th>\n",
       "      <td>Z_oss</td>\n",
       "      <td>5.0</td>\n",
       "    </tr>\n",
       "    <tr>\n",
       "      <th>5</th>\n",
       "      <td>Z_crit</td>\n",
       "      <td>2.128045</td>\n",
       "    </tr>\n",
       "    <tr>\n",
       "      <th>6</th>\n",
       "      <td>Esito</td>\n",
       "      <td>H0 Rigettata</td>\n",
       "    </tr>\n",
       "  </tbody>\n",
       "</table>\n",
       "</div>"
      ],
      "text/plain": [
       "         Nome        Valore\n",
       "0           x           3.0\n",
       "1          mu           8.0\n",
       "2  error on x           0.5\n",
       "3       alpha          0.05\n",
       "4       Z_oss           5.0\n",
       "5      Z_crit      2.128045\n",
       "6       Esito  H0 Rigettata"
      ]
     },
     "metadata": {},
     "output_type": "display_data"
    },
    {
     "name": "stdout",
     "output_type": "stream",
     "text": [
      "Stored 'gdf' (DataFrame)\n"
     ]
    }
   ],
   "source": [
    "import pandas as pd\n",
    "import numpy as np\n",
    "import scipy.stats\n",
    "import IPython\n",
    "\n",
    "##load datatset\n",
    "%store -r gaussdata\n",
    "##create empty output list of lists\n",
    "gl=[]\n",
    "\n",
    "def gauss(samplearr):\n",
    "    \n",
    "    Z_crit=scipy.stats.norm.ppf(1-samplearr[3]/2)\n",
    "    Z_oss=abs(samplearr[0]-samplearr[1])/samplearr[2]\n",
    "    \n",
    "    ##append rows to output list\n",
    "    gl.append(['x', samplearr[0]])\n",
    "    gl.append(['mu', samplearr[1]])\n",
    "    gl.append(['error on x', samplearr[2]])\n",
    "    gl.append(['alpha', samplearr[3]])\n",
    "    gl.append(['Z_oss', Z_oss]) \n",
    "    gl.append(['Z_crit', Z_crit])\n",
    "    \n",
    "    if(Z_crit>=Z_oss):\n",
    "            gl.append(['Esito', 'H0 Accettata'])\n",
    "    elif(Z_crit<Z_oss):\n",
    "            gl.append(['Esito', 'H0 Rigettata'])\n",
    "\n",
    "##run function on loaded datatset\n",
    "gauss(gaussdata)     \n",
    "##export datatset to pandas dataframe\n",
    "gdf=pd.DataFrame(gl,columns=['Nome','Valore'])\n",
    "\n",
    "##load display dataframe\n",
    "display(gdf)\n",
    "\n",
    "##store dataframe\n",
    "%store gdf"
   ]
  }
 ],
 "metadata": {
  "kernelspec": {
   "display_name": "Python 3",
   "language": "python",
   "name": "python3"
  },
  "language_info": {
   "codemirror_mode": {
    "name": "ipython",
    "version": 3
   },
   "file_extension": ".py",
   "mimetype": "text/x-python",
   "name": "python",
   "nbconvert_exporter": "python",
   "pygments_lexer": "ipython3",
   "version": "3.8.8"
  }
 },
 "nbformat": 4,
 "nbformat_minor": 5
}
